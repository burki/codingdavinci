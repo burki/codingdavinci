{
 "metadata": {
  "name": "",
  "signature": "sha256:f19359786cdd31343c3444d4738615b0ab844b6512e5aee16d102b19b1e74139"
 },
 "nbformat": 3,
 "nbformat_minor": 0,
 "worksheets": []
}